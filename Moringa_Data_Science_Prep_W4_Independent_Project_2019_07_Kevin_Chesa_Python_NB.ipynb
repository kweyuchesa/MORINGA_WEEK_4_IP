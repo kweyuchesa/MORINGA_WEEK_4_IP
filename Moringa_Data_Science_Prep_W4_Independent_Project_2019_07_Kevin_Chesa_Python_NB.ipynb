{
  "nbformat": 4,
  "nbformat_minor": 0,
  "metadata": {
    "colab": {
      "name": "Moringa_Data_Science_Prep_W4_Independent_Project_2019_07_Kevin_Chesa_Python_NB",
      "version": "0.3.2",
      "provenance": [],
      "collapsed_sections": [],
      "include_colab_link": true
    },
    "kernelspec": {
      "name": "python3",
      "display_name": "Python 3"
    },
    "accelerator": "GPU"
  },
  "cells": [
    {
      "cell_type": "markdown",
      "metadata": {
        "id": "view-in-github",
        "colab_type": "text"
      },
      "source": [
        "<a href=\"https://colab.research.google.com/github/kweyuchesa/MORINGA_WEEK_4_IP/blob/master/Moringa_Data_Science_Prep_W4_Independent_Project_2019_07_Kevin_Chesa_Python_NB.ipynb\" target=\"_parent\"><img src=\"https://colab.research.google.com/assets/colab-badge.svg\" alt=\"Open In Colab\"/></a>"
      ]
    },
    {
      "cell_type": "markdown",
      "metadata": {
        "id": "en8bwbkBgj4O",
        "colab_type": "text"
      },
      "source": [
        "#libraries for our analysis "
      ]
    },
    {
      "cell_type": "code",
      "metadata": {
        "id": "auRqzVGTgis_",
        "colab_type": "code",
        "colab": {}
      },
      "source": [
        "## Import the packages and libraries\n",
        "import numpy as np\n",
        "import pandas as pd\n",
        "import pandas_profiling\n",
        "import matplotlib.pyplot as plt\n",
        "import plotly as py\n",
        "import seaborn as sns \n",
        "import os\n"
      ],
      "execution_count": 0,
      "outputs": []
    },
    {
      "cell_type": "markdown",
      "metadata": {
        "id": "qPq8GSURg4d2",
        "colab_type": "text"
      },
      "source": [
        "Importing Our **Autolib_dataset.xlsx** Dataset for analysis and Exploration "
      ]
    },
    {
      "cell_type": "code",
      "metadata": {
        "id": "_MgxXOv8hBzk",
        "colab_type": "code",
        "outputId": "c25c2d8a-0cf9-4e5d-cda9-4342dca03420",
        "colab": {
          "base_uri": "https://localhost:8080/",
          "height": 33
        }
      },
      "source": [
        "# Let's read the data from the CSV file and create the dataframe to be used\n",
        "url = 'http://bit.ly/Autolibdataset'\n",
        "url"
      ],
      "execution_count": 106,
      "outputs": [
        {
          "output_type": "execute_result",
          "data": {
            "text/plain": [
              "'http://bit.ly/Autolibdataset'"
            ]
          },
          "metadata": {
            "tags": []
          },
          "execution_count": 106
        }
      ]
    },
    {
      "cell_type": "markdown",
      "metadata": {
        "id": "gGTDAiWOw2fQ",
        "colab_type": "text"
      },
      "source": [
        "#Creating an SQL Environment for Loading Huge Dataset"
      ]
    },
    {
      "cell_type": "code",
      "metadata": {
        "id": "oy72tOR2DLsK",
        "colab_type": "code",
        "colab": {
          "base_uri": "https://localhost:8080/",
          "height": 33
        },
        "outputId": "8b24f744-0127-4c0a-b654-516e50812254"
      },
      "source": [
        "import os\n",
        "import csv\n",
        "import sqlite3\n",
        "from sqlalchemy import create_engine\n",
        "\n",
        "csv_database = create_engine('sqlite:////csv_database.db')\n",
        "chunk_size = 1000000\n",
        "i = 0\n",
        "j = 0\n",
        "for df in pd.read_csv(url, chunksize = chunk_size, iterator = True):\n",
        "    df = df.rename(columns = {c: c.replace(' ','') for c in df.columns})\n",
        "    df.index += j\n",
        "\n",
        "df.to_sql('auto', csv_database, if_exists = 'append' )\n",
        "j = df.index[-1]+1\n",
        "\n",
        "print(' | index: {}'.format(j))"
      ],
      "execution_count": 107,
      "outputs": [
        {
          "output_type": "stream",
          "text": [
            " | index: 14421829\n"
          ],
          "name": "stdout"
        }
      ]
    },
    {
      "cell_type": "code",
      "metadata": {
        "id": "G4QRKEWGDXSg",
        "colab_type": "code",
        "colab": {}
      },
      "source": [
        "#Finding the size of the dataset \n",
        "auto.tail()"
      ],
      "execution_count": 0,
      "outputs": []
    },
    {
      "cell_type": "markdown",
      "metadata": {
        "id": "LPZWNAVVw-YM",
        "colab_type": "text"
      },
      "source": [
        "#Retreaving csv file into our sql lite environment "
      ]
    },
    {
      "cell_type": "markdown",
      "metadata": {
        "id": "cad_Oz_j_OV3",
        "colab_type": "text"
      },
      "source": [
        "DESCRIBING THE DATASET"
      ]
    },
    {
      "cell_type": "code",
      "metadata": {
        "id": "9iM9O5jb_VXC",
        "colab_type": "code",
        "colab": {}
      },
      "source": [
        "#retreaving csv file into our sql lite environment \n",
        "auto = pd.read_sql_query('SELECT * from auto WHERE city == \"Paris\" ', csv_database, )"
      ],
      "execution_count": 0,
      "outputs": []
    },
    {
      "cell_type": "code",
      "metadata": {
        "id": "Bygczs8bNwy1",
        "colab_type": "code",
        "colab": {}
      },
      "source": [
        "auto.to_csv('auto_clean.csv')"
      ],
      "execution_count": 0,
      "outputs": []
    },
    {
      "cell_type": "code",
      "metadata": {
        "id": "NFUxaJmrPBi7",
        "colab_type": "code",
        "colab": {}
      },
      "source": [
        "auto = pd.read_csv('auto_clean.csv', dtype = {'year':str,'month':str,'day':str,'hour':str,'minute':str })"
      ],
      "execution_count": 0,
      "outputs": []
    },
    {
      "cell_type": "code",
      "metadata": {
        "id": "FcKBEZPPM35K",
        "colab_type": "code",
        "colab": {}
      },
      "source": [
        "auto['date'] = auto.year.str.cat([auto.month,auto.day], sep = '/')"
      ],
      "execution_count": 0,
      "outputs": []
    },
    {
      "cell_type": "code",
      "metadata": {
        "id": "z0OpZp4rM6Mf",
        "colab_type": "code",
        "colab": {}
      },
      "source": [
        "auto['time'] = auto.hour.str.cat([auto.minute], sep = ':')"
      ],
      "execution_count": 0,
      "outputs": []
    },
    {
      "cell_type": "code",
      "metadata": {
        "id": "rBKHS7S9M8W2",
        "colab_type": "code",
        "colab": {}
      },
      "source": [
        "auto['date_time'] = auto.date.str.cat([auto.time], sep = ' ')"
      ],
      "execution_count": 0,
      "outputs": []
    },
    {
      "cell_type": "code",
      "metadata": {
        "id": "31CS1k9EM_ju",
        "colab_type": "code",
        "colab": {}
      },
      "source": [
        "auto.drop(['year','month', 'day', 'minute',  'date', 'time'],axis = 1, inplace = True)"
      ],
      "execution_count": 0,
      "outputs": []
    },
    {
      "cell_type": "code",
      "metadata": {
        "id": "OpJqNjqKNB0h",
        "colab_type": "code",
        "colab": {}
      },
      "source": [
        "auto.to_csv('auto_clean.csv')"
      ],
      "execution_count": 0,
      "outputs": []
    },
    {
      "cell_type": "code",
      "metadata": {
        "id": "6xlCZd3LPjvb",
        "colab_type": "code",
        "colab": {}
      },
      "source": [
        "auto.head()"
      ],
      "execution_count": 0,
      "outputs": []
    },
    {
      "cell_type": "markdown",
      "metadata": {
        "id": "tVzP0Og__W-a",
        "colab_type": "text"
      },
      "source": [
        "Renaming Our dataset"
      ]
    },
    {
      "cell_type": "code",
      "metadata": {
        "id": "3bjslbPN_bni",
        "colab_type": "code",
        "colab": {}
      },
      "source": [
        ""
      ],
      "execution_count": 0,
      "outputs": []
    },
    {
      "cell_type": "markdown",
      "metadata": {
        "id": "9AYOO3Fn_crR",
        "colab_type": "text"
      },
      "source": [
        "Preview our dataset"
      ]
    },
    {
      "cell_type": "code",
      "metadata": {
        "id": "lu6om68r_fui",
        "colab_type": "code",
        "colab": {
          "base_uri": "https://localhost:8080/",
          "height": 191
        },
        "outputId": "625ab532-c57d-4f8f-d173-3c2fd9272816"
      },
      "source": [
        "auto.tail()"
      ],
      "execution_count": 92,
      "outputs": [
        {
          "output_type": "execute_result",
          "data": {
            "text/html": [
              "<div>\n",
              "<style scoped>\n",
              "    .dataframe tbody tr th:only-of-type {\n",
              "        vertical-align: middle;\n",
              "    }\n",
              "\n",
              "    .dataframe tbody tr th {\n",
              "        vertical-align: top;\n",
              "    }\n",
              "\n",
              "    .dataframe thead th {\n",
              "        text-align: right;\n",
              "    }\n",
              "</style>\n",
              "<table border=\"1\" class=\"dataframe\">\n",
              "  <thead>\n",
              "    <tr style=\"text-align: right;\">\n",
              "      <th></th>\n",
              "      <th>Unnamed: 0</th>\n",
              "      <th>Bluecarcounter</th>\n",
              "      <th>Utilibcounter</th>\n",
              "      <th>Utilib1.4counter</th>\n",
              "      <th>City</th>\n",
              "      <th>Postalcode</th>\n",
              "      <th>Publicname</th>\n",
              "      <th>Stationtype</th>\n",
              "      <th>Status</th>\n",
              "      <th>Subscriptionstatus</th>\n",
              "      <th>hour</th>\n",
              "      <th>date_time</th>\n",
              "    </tr>\n",
              "  </thead>\n",
              "  <tbody>\n",
              "    <tr>\n",
              "      <th>690793</th>\n",
              "      <td>690793</td>\n",
              "      <td>3</td>\n",
              "      <td>0</td>\n",
              "      <td>0</td>\n",
              "      <td>Paris</td>\n",
              "      <td>75013</td>\n",
              "      <td>Paris/Auguste Blanqui/50</td>\n",
              "      <td>station</td>\n",
              "      <td>ok</td>\n",
              "      <td>nonexistent</td>\n",
              "      <td>23</td>\n",
              "      <td>2018/4/9 23:59</td>\n",
              "    </tr>\n",
              "    <tr>\n",
              "      <th>690794</th>\n",
              "      <td>690794</td>\n",
              "      <td>0</td>\n",
              "      <td>0</td>\n",
              "      <td>0</td>\n",
              "      <td>Paris</td>\n",
              "      <td>75009</td>\n",
              "      <td>Paris/Turgot/4</td>\n",
              "      <td>station</td>\n",
              "      <td>closed</td>\n",
              "      <td>nonexistent</td>\n",
              "      <td>23</td>\n",
              "      <td>2018/4/9 23:59</td>\n",
              "    </tr>\n",
              "    <tr>\n",
              "      <th>690795</th>\n",
              "      <td>690795</td>\n",
              "      <td>0</td>\n",
              "      <td>0</td>\n",
              "      <td>0</td>\n",
              "      <td>Paris</td>\n",
              "      <td>75011</td>\n",
              "      <td>Paris/Parmentier/125</td>\n",
              "      <td>station</td>\n",
              "      <td>ok</td>\n",
              "      <td>nonexistent</td>\n",
              "      <td>23</td>\n",
              "      <td>2018/4/9 23:59</td>\n",
              "    </tr>\n",
              "    <tr>\n",
              "      <th>690796</th>\n",
              "      <td>690796</td>\n",
              "      <td>0</td>\n",
              "      <td>0</td>\n",
              "      <td>0</td>\n",
              "      <td>Paris</td>\n",
              "      <td>75006</td>\n",
              "      <td>Paris/Danton/8</td>\n",
              "      <td>station</td>\n",
              "      <td>ok</td>\n",
              "      <td>nonexistent</td>\n",
              "      <td>23</td>\n",
              "      <td>2018/4/9 23:59</td>\n",
              "    </tr>\n",
              "    <tr>\n",
              "      <th>690797</th>\n",
              "      <td>690797</td>\n",
              "      <td>5</td>\n",
              "      <td>0</td>\n",
              "      <td>0</td>\n",
              "      <td>Paris</td>\n",
              "      <td>75015</td>\n",
              "      <td>Paris/Olivier de Serres/3</td>\n",
              "      <td>station</td>\n",
              "      <td>ok</td>\n",
              "      <td>nonexistent</td>\n",
              "      <td>23</td>\n",
              "      <td>2018/4/9 23:59</td>\n",
              "    </tr>\n",
              "  </tbody>\n",
              "</table>\n",
              "</div>"
            ],
            "text/plain": [
              "        Unnamed: 0  Bluecarcounter  ...  hour       date_time\n",
              "690793      690793               3  ...    23  2018/4/9 23:59\n",
              "690794      690794               0  ...    23  2018/4/9 23:59\n",
              "690795      690795               0  ...    23  2018/4/9 23:59\n",
              "690796      690796               0  ...    23  2018/4/9 23:59\n",
              "690797      690797               5  ...    23  2018/4/9 23:59\n",
              "\n",
              "[5 rows x 12 columns]"
            ]
          },
          "metadata": {
            "tags": []
          },
          "execution_count": 92
        }
      ]
    },
    {
      "cell_type": "markdown",
      "metadata": {
        "id": "ZxzrmJOS_hV6",
        "colab_type": "text"
      },
      "source": [
        "#Validity ~ Dropping Unnecesary columns/Variables "
      ]
    },
    {
      "cell_type": "code",
      "metadata": {
        "id": "j-M0H-n9_l2J",
        "colab_type": "code",
        "colab": {}
      },
      "source": [
        "auto.drop(['Unnamed: 0', 'Unnamed:0', 'index',  'Displayedcomment', 'ID', 'Geopoint', \n",
        "           'Scheduledat','Address','ChargeSlots', 'ChargingStatus','Kind', 'Rentalstatus','Slots',],axis=1, inplace=True)"
      ],
      "execution_count": 0,
      "outputs": []
    },
    {
      "cell_type": "code",
      "metadata": {
        "id": "rwCXln_Z_u8h",
        "colab_type": "code",
        "colab": {}
      },
      "source": [
        "# checking the columns types \n",
        "auto.dtypes"
      ],
      "execution_count": 0,
      "outputs": []
    },
    {
      "cell_type": "markdown",
      "metadata": {
        "id": "aMr2RcbB_y4Z",
        "colab_type": "text"
      },
      "source": [
        "#Completeness ~ Null Values Assessment "
      ]
    },
    {
      "cell_type": "code",
      "metadata": {
        "id": "8OMsED9p_1ob",
        "colab_type": "code",
        "colab": {
          "base_uri": "https://localhost:8080/",
          "height": 33
        },
        "outputId": "3048e3ab-6a13-4cb3-c853-e48d36beebc7"
      },
      "source": [
        "#Checking for null values  \n",
        "auto.isnull().sum().sum()"
      ],
      "execution_count": 78,
      "outputs": [
        {
          "output_type": "execute_result",
          "data": {
            "text/plain": [
              "0"
            ]
          },
          "metadata": {
            "tags": []
          },
          "execution_count": 78
        }
      ]
    },
    {
      "cell_type": "code",
      "metadata": {
        "id": "hrQvW2atKiv9",
        "colab_type": "code",
        "colab": {}
      },
      "source": [
        "#preview our dataset to ascertain its dropped columns \n",
        "auto.head()"
      ],
      "execution_count": 0,
      "outputs": []
    },
    {
      "cell_type": "markdown",
      "metadata": {
        "id": "j6yvLCiG_2ZR",
        "colab_type": "text"
      },
      "source": [
        "#Duplicates "
      ]
    },
    {
      "cell_type": "code",
      "metadata": {
        "id": "GjbSxQrp_5_u",
        "colab_type": "code",
        "colab": {}
      },
      "source": [
        "#Duplicates and Drop them ~ Scheduled at has the most duplicates 14310213  \n",
        "auto[auto.duplicated(subset = None)]"
      ],
      "execution_count": 0,
      "outputs": []
    },
    {
      "cell_type": "code",
      "metadata": {
        "id": "bL2fKCJi_7BZ",
        "colab_type": "code",
        "colab": {
          "base_uri": "https://localhost:8080/",
          "height": 33
        },
        "outputId": "fd939faf-f8a7-474e-ee7e-3fb798386117"
      },
      "source": [
        "#Checking if its only city we are dealing with \n",
        "auto.City.unique()"
      ],
      "execution_count": 101,
      "outputs": [
        {
          "output_type": "execute_result",
          "data": {
            "text/plain": [
              "array(['Paris'], dtype=object)"
            ]
          },
          "metadata": {
            "tags": []
          },
          "execution_count": 101
        }
      ]
    },
    {
      "cell_type": "markdown",
      "metadata": {
        "id": "4ihLZpeg__c6",
        "colab_type": "text"
      },
      "source": [
        "#Uniformity ~ Date Type Conversion "
      ]
    },
    {
      "cell_type": "code",
      "metadata": {
        "id": "QCioXDSWACww",
        "colab_type": "code",
        "colab": {}
      },
      "source": [
        "#Uniformity - datetypes as strings \n",
        "auto = pd.read_csv('auto_clean.csv', dtype = {'year':str,'month':str,'day':str,'hour':str,'minute':str })"
      ],
      "execution_count": 0,
      "outputs": []
    },
    {
      "cell_type": "code",
      "metadata": {
        "id": "B9d08EVUReeb",
        "colab_type": "code",
        "colab": {}
      },
      "source": [
        "#converting  date_time column \n",
        "auto['date_time'] = pd.to_datetime( auto['date_time'])"
      ],
      "execution_count": 0,
      "outputs": []
    },
    {
      "cell_type": "markdown",
      "metadata": {
        "id": "j00F5yt8AFNg",
        "colab_type": "text"
      },
      "source": [
        "Displaying Clean Dataset"
      ]
    },
    {
      "cell_type": "code",
      "metadata": {
        "id": "MffuERhNAL34",
        "colab_type": "code",
        "colab": {
          "base_uri": "https://localhost:8080/",
          "height": 191
        },
        "outputId": "a231c64b-9ad9-4c8f-fc14-b03d10445c54"
      },
      "source": [
        "#DISPLAYING OUR CLEAN DATASET\n",
        "auto.head()"
      ],
      "execution_count": 100,
      "outputs": [
        {
          "output_type": "execute_result",
          "data": {
            "text/html": [
              "<div>\n",
              "<style scoped>\n",
              "    .dataframe tbody tr th:only-of-type {\n",
              "        vertical-align: middle;\n",
              "    }\n",
              "\n",
              "    .dataframe tbody tr th {\n",
              "        vertical-align: top;\n",
              "    }\n",
              "\n",
              "    .dataframe thead th {\n",
              "        text-align: right;\n",
              "    }\n",
              "</style>\n",
              "<table border=\"1\" class=\"dataframe\">\n",
              "  <thead>\n",
              "    <tr style=\"text-align: right;\">\n",
              "      <th></th>\n",
              "      <th>Unnamed: 0</th>\n",
              "      <th>Bluecarcounter</th>\n",
              "      <th>Utilibcounter</th>\n",
              "      <th>Utilib1.4counter</th>\n",
              "      <th>City</th>\n",
              "      <th>Postalcode</th>\n",
              "      <th>Publicname</th>\n",
              "      <th>Stationtype</th>\n",
              "      <th>Status</th>\n",
              "      <th>Subscriptionstatus</th>\n",
              "      <th>hour</th>\n",
              "      <th>date_time</th>\n",
              "    </tr>\n",
              "  </thead>\n",
              "  <tbody>\n",
              "    <tr>\n",
              "      <th>2</th>\n",
              "      <td>2</td>\n",
              "      <td>0</td>\n",
              "      <td>0</td>\n",
              "      <td>0</td>\n",
              "      <td>Paris</td>\n",
              "      <td>75020</td>\n",
              "      <td>Paris/Harpignies/3</td>\n",
              "      <td>station</td>\n",
              "      <td>closed</td>\n",
              "      <td>nonexistent</td>\n",
              "      <td>17</td>\n",
              "      <td>2018-04-09 17:46:00</td>\n",
              "    </tr>\n",
              "    <tr>\n",
              "      <th>4</th>\n",
              "      <td>4</td>\n",
              "      <td>0</td>\n",
              "      <td>0</td>\n",
              "      <td>0</td>\n",
              "      <td>Paris</td>\n",
              "      <td>75018</td>\n",
              "      <td>Paris/Rachel/1</td>\n",
              "      <td>station</td>\n",
              "      <td>ok</td>\n",
              "      <td>nonexistent</td>\n",
              "      <td>17</td>\n",
              "      <td>2018-04-09 17:46:00</td>\n",
              "    </tr>\n",
              "    <tr>\n",
              "      <th>11</th>\n",
              "      <td>11</td>\n",
              "      <td>0</td>\n",
              "      <td>0</td>\n",
              "      <td>1</td>\n",
              "      <td>Paris</td>\n",
              "      <td>75002</td>\n",
              "      <td>Paris/Alexandrie/7</td>\n",
              "      <td>station</td>\n",
              "      <td>ok</td>\n",
              "      <td>nonexistent</td>\n",
              "      <td>17</td>\n",
              "      <td>2018-04-09 17:46:00</td>\n",
              "    </tr>\n",
              "    <tr>\n",
              "      <th>15</th>\n",
              "      <td>15</td>\n",
              "      <td>0</td>\n",
              "      <td>0</td>\n",
              "      <td>0</td>\n",
              "      <td>Paris</td>\n",
              "      <td>75019</td>\n",
              "      <td>Paris/Goubet/8</td>\n",
              "      <td>station</td>\n",
              "      <td>ok</td>\n",
              "      <td>nonexistent</td>\n",
              "      <td>17</td>\n",
              "      <td>2018-04-09 17:46:00</td>\n",
              "    </tr>\n",
              "    <tr>\n",
              "      <th>16</th>\n",
              "      <td>16</td>\n",
              "      <td>0</td>\n",
              "      <td>0</td>\n",
              "      <td>0</td>\n",
              "      <td>Paris</td>\n",
              "      <td>75013</td>\n",
              "      <td>Paris/Arago/52</td>\n",
              "      <td>station</td>\n",
              "      <td>ok</td>\n",
              "      <td>nonexistent</td>\n",
              "      <td>17</td>\n",
              "      <td>2018-04-09 17:46:00</td>\n",
              "    </tr>\n",
              "  </tbody>\n",
              "</table>\n",
              "</div>"
            ],
            "text/plain": [
              "    Unnamed: 0  Bluecarcounter  ...  hour           date_time\n",
              "2            2               0  ...    17 2018-04-09 17:46:00\n",
              "4            4               0  ...    17 2018-04-09 17:46:00\n",
              "11          11               0  ...    17 2018-04-09 17:46:00\n",
              "15          15               0  ...    17 2018-04-09 17:46:00\n",
              "16          16               0  ...    17 2018-04-09 17:46:00\n",
              "\n",
              "[5 rows x 12 columns]"
            ]
          },
          "metadata": {
            "tags": []
          },
          "execution_count": 100
        }
      ]
    },
    {
      "cell_type": "markdown",
      "metadata": {
        "id": "Gxn2SsUyAOYI",
        "colab_type": "text"
      },
      "source": [
        "Saving our clean dataset as csv"
      ]
    },
    {
      "cell_type": "code",
      "metadata": {
        "id": "gnbpTq9nASCQ",
        "colab_type": "code",
        "colab": {}
      },
      "source": [
        "#SAVING THE CLEAN DATASET AS CSV\n",
        "auto.to_csv('auto_clean.csv')"
      ],
      "execution_count": 0,
      "outputs": []
    },
    {
      "cell_type": "code",
      "metadata": {
        "id": "hHiLNh2RS-G1",
        "colab_type": "code",
        "colab": {}
      },
      "source": [
        "auto.count()"
      ],
      "execution_count": 0,
      "outputs": []
    },
    {
      "cell_type": "markdown",
      "metadata": {
        "id": "BL9GKR4aATwg",
        "colab_type": "text"
      },
      "source": [
        "#ANALYSIS ~ Answering Research Questions "
      ]
    },
    {
      "cell_type": "markdown",
      "metadata": {
        "id": "O6BUYk_5AcHw",
        "colab_type": "text"
      },
      "source": [
        "1. What was the most popular hour of the day for picking up a shared electric car (Bluecar) \n",
        "in the city of Paris over the month of April 2018?"
      ]
    },
    {
      "cell_type": "code",
      "metadata": {
        "id": "pcDmGQOwAeFZ",
        "colab_type": "code",
        "colab": {}
      },
      "source": [
        "#ensuring the city is Paris \n",
        "auto[auto.City == 'Paris'] "
      ],
      "execution_count": 0,
      "outputs": []
    },
    {
      "cell_type": "code",
      "metadata": {
        "id": "HNbjHIrYR5XY",
        "colab_type": "code",
        "colab": {}
      },
      "source": [
        "#this lists the hours for picking the cars \n",
        "auto.groupby([auto.date_time.dt.hour])['Bluecarcounter'].sum().sort_values(ascending = False)"
      ],
      "execution_count": 0,
      "outputs": []
    },
    {
      "cell_type": "markdown",
      "metadata": {
        "id": "-LX0-UfIAf1g",
        "colab_type": "text"
      },
      "source": [
        "2.What is the most popular postal code per hour for returning blue cars? 78005 most popular with 14419 units of cars "
      ]
    },
    {
      "cell_type": "code",
      "metadata": {
        "id": "QN6D02dcAhho",
        "colab_type": "code",
        "colab": {}
      },
      "source": [
        "auto.groupby(['Postalcode',auto.date_time.dt.hour,'Bluecarcounter'])['Bluecarcounter'].count().sort_values(ascending = False).head(20)"
      ],
      "execution_count": 0,
      "outputs": []
    },
    {
      "cell_type": "markdown",
      "metadata": {
        "id": "9K5HDeBoAjI5",
        "colab_type": "text"
      },
      "source": [
        "3. Most Popular Station "
      ]
    },
    {
      "cell_type": "code",
      "metadata": {
        "id": "0RkqVomCAluQ",
        "colab_type": "code",
        "colab": {}
      },
      "source": [
        "auto.groupby(['Publicname','Bluecarcounter'])['Publicname'].count().sort_values(ascending = False).head(20)"
      ],
      "execution_count": 0,
      "outputs": []
    },
    {
      "cell_type": "markdown",
      "metadata": {
        "id": "3WYU4i00AoXR",
        "colab_type": "text"
      },
      "source": [
        "4. Utilib_counter Station at the most popular picking hour for blue cars "
      ]
    },
    {
      "cell_type": "code",
      "metadata": {
        "id": "8znYlX2KAqJP",
        "colab_type": "code",
        "colab": {}
      },
      "source": [
        "auto.groupby(['Publicname',auto.date_time.dt.hour,'Utilibcounter'])['Utilibcounter'].count().sort_values(ascending = False).head()"
      ],
      "execution_count": 0,
      "outputs": []
    },
    {
      "cell_type": "markdown",
      "metadata": {
        "id": "-GvPRi4cAx4j",
        "colab_type": "text"
      },
      "source": [
        "5. "
      ]
    }
  ]
}