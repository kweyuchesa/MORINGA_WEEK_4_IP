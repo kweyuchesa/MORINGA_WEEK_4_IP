{
  "nbformat": 4,
  "nbformat_minor": 0,
  "metadata": {
    "colab": {
      "name": "Moringa_Data_Science_Prep_W4_Independent_Project_2019_07_Kevin_Chesa_Python_Notebook",
      "version": "0.3.2",
      "provenance": [],
      "collapsed_sections": [],
      "include_colab_link": true
    },
    "kernelspec": {
      "name": "python3",
      "display_name": "Python 3"
    },
    "accelerator": "GPU"
  },
  "cells": [
    {
      "cell_type": "markdown",
      "metadata": {
        "id": "view-in-github",
        "colab_type": "text"
      },
      "source": [
        "<a href=\"https://colab.research.google.com/github/kweyuchesa/WEEK-4---MORINGA-IP/blob/master/Moringa_Data_Science_Prep_W4_Independent_Project_2019_07_Kevin_Chesa_Python_NB.ipynb\" target=\"_parent\"><img src=\"https://colab.research.google.com/assets/colab-badge.svg\" alt=\"Open In Colab\"/></a>"
      ]
    },
    {
      "cell_type": "markdown",
      "metadata": {
        "id": "en8bwbkBgj4O",
        "colab_type": "text"
      },
      "source": [
        "#libraries for our analysis "
      ]
    },
    {
      "cell_type": "code",
      "metadata": {
        "id": "auRqzVGTgis_",
        "colab_type": "code",
        "colab": {}
      },
      "source": [
        "## Import the packages and libraries\n",
        "import numpy as np\n",
        "import pandas as pd\n",
        "import pandas_profiling\n",
        "import matplotlib.pyplot as plt\n",
        "import plotly as py\n",
        "import seaborn as sns \n",
        "import os\n"
      ],
      "execution_count": 0,
      "outputs": []
    },
    {
      "cell_type": "markdown",
      "metadata": {
        "id": "qPq8GSURg4d2",
        "colab_type": "text"
      },
      "source": [
        "Importing Our **Autolib_dataset.xlsx** Dataset for analysis and Exploration "
      ]
    },
    {
      "cell_type": "code",
      "metadata": {
        "id": "_MgxXOv8hBzk",
        "colab_type": "code",
        "outputId": "27385c22-177e-4a34-dd5f-a6250ff25c45",
        "colab": {
          "base_uri": "https://localhost:8080/",
          "height": 33
        }
      },
      "source": [
        "# Let's read the data from the CSV file and create the dataframe to be used\n",
        "url = 'http://bit.ly/Autolibdataset'\n",
        "url"
      ],
      "execution_count": 14,
      "outputs": [
        {
          "output_type": "execute_result",
          "data": {
            "text/plain": [
              "'http://bit.ly/Autolibdataset'"
            ]
          },
          "metadata": {
            "tags": []
          },
          "execution_count": 14
        }
      ]
    },
    {
      "cell_type": "markdown",
      "metadata": {
        "id": "gGTDAiWOw2fQ",
        "colab_type": "text"
      },
      "source": [
        "#Creating an SQL Environment for Loading Huge Dataset"
      ]
    },
    {
      "cell_type": "code",
      "metadata": {
        "id": "oy72tOR2DLsK",
        "colab_type": "code",
        "colab": {
          "base_uri": "https://localhost:8080/",
          "height": 33
        },
        "outputId": "c5b81f34-7a18-44de-8d6a-823816b4684f"
      },
      "source": [
        "import os\n",
        "import csv\n",
        "import sqlite3\n",
        "from sqlalchemy import create_engine\n",
        "\n",
        "csv_database = create_engine('sqlite:////csv_database.db')\n",
        "chunk_size = 1000000\n",
        "i = 0\n",
        "j = 0\n",
        "for df in pd.read_csv(url, chunksize = chunk_size, iterator = True):\n",
        "    df = df.rename(columns = {c: c.replace(' ','') for c in df.columns})\n",
        "    df.index += j\n",
        "\n",
        "df.to_sql('auto', csv_database, if_exists = 'append' )\n",
        "j = df.index[-1]+1\n",
        "\n",
        "print(' | index: {}'.format(j))"
      ],
      "execution_count": 19,
      "outputs": [
        {
          "output_type": "stream",
          "text": [
            " | index: 14421829\n"
          ],
          "name": "stdout"
        }
      ]
    },
    {
      "cell_type": "code",
      "metadata": {
        "id": "G4QRKEWGDXSg",
        "colab_type": "code",
        "colab": {
          "base_uri": "https://localhost:8080/",
          "height": 357
        },
        "outputId": "77161129-be3a-4afa-e365-95d8216b272f"
      },
      "source": [
        "#Finding the size of the dataset \n",
        "auto.tail()"
      ],
      "execution_count": 21,
      "outputs": [
        {
          "output_type": "execute_result",
          "data": {
            "text/html": [
              "<div>\n",
              "<style scoped>\n",
              "    .dataframe tbody tr th:only-of-type {\n",
              "        vertical-align: middle;\n",
              "    }\n",
              "\n",
              "    .dataframe tbody tr th {\n",
              "        vertical-align: top;\n",
              "    }\n",
              "\n",
              "    .dataframe thead th {\n",
              "        text-align: right;\n",
              "    }\n",
              "</style>\n",
              "<table border=\"1\" class=\"dataframe\">\n",
              "  <thead>\n",
              "    <tr style=\"text-align: right;\">\n",
              "      <th></th>\n",
              "      <th>index</th>\n",
              "      <th>Unnamed:0</th>\n",
              "      <th>Address</th>\n",
              "      <th>Cars</th>\n",
              "      <th>Bluecarcounter</th>\n",
              "      <th>Utilibcounter</th>\n",
              "      <th>Utilib1.4counter</th>\n",
              "      <th>ChargeSlots</th>\n",
              "      <th>ChargingStatus</th>\n",
              "      <th>City</th>\n",
              "      <th>Displayedcomment</th>\n",
              "      <th>ID</th>\n",
              "      <th>Kind</th>\n",
              "      <th>Geopoint</th>\n",
              "      <th>Postalcode</th>\n",
              "      <th>Publicname</th>\n",
              "      <th>Rentalstatus</th>\n",
              "      <th>Scheduledat</th>\n",
              "      <th>Slots</th>\n",
              "      <th>Stationtype</th>\n",
              "      <th>Status</th>\n",
              "      <th>Subscriptionstatus</th>\n",
              "      <th>year</th>\n",
              "      <th>month</th>\n",
              "      <th>day</th>\n",
              "      <th>hour</th>\n",
              "      <th>minute</th>\n",
              "    </tr>\n",
              "  </thead>\n",
              "  <tbody>\n",
              "    <tr>\n",
              "      <th>460527</th>\n",
              "      <td>14421817</td>\n",
              "      <td>234</td>\n",
              "      <td>50 Boulevard Auguste Blanqui</td>\n",
              "      <td>3</td>\n",
              "      <td>3</td>\n",
              "      <td>0</td>\n",
              "      <td>0</td>\n",
              "      <td>0</td>\n",
              "      <td>nonexistent</td>\n",
              "      <td>Paris</td>\n",
              "      <td>None</td>\n",
              "      <td>paris-augusteblanqui-50</td>\n",
              "      <td>STATION</td>\n",
              "      <td>48.8299453, 2.3499186</td>\n",
              "      <td>75013</td>\n",
              "      <td>Paris/Auguste Blanqui/50</td>\n",
              "      <td>operational</td>\n",
              "      <td>None</td>\n",
              "      <td>1</td>\n",
              "      <td>station</td>\n",
              "      <td>ok</td>\n",
              "      <td>nonexistent</td>\n",
              "      <td>2018</td>\n",
              "      <td>4</td>\n",
              "      <td>9</td>\n",
              "      <td>23</td>\n",
              "      <td>59</td>\n",
              "    </tr>\n",
              "    <tr>\n",
              "      <th>460528</th>\n",
              "      <td>14421819</td>\n",
              "      <td>372</td>\n",
              "      <td>4 rue Turgot</td>\n",
              "      <td>0</td>\n",
              "      <td>0</td>\n",
              "      <td>0</td>\n",
              "      <td>0</td>\n",
              "      <td>0</td>\n",
              "      <td>broken</td>\n",
              "      <td>Paris</td>\n",
              "      <td>None</td>\n",
              "      <td>paris-turgot-4</td>\n",
              "      <td>STATION</td>\n",
              "      <td>48.8800786, 2.3455235</td>\n",
              "      <td>75009</td>\n",
              "      <td>Paris/Turgot/4</td>\n",
              "      <td>broken</td>\n",
              "      <td>None</td>\n",
              "      <td>0</td>\n",
              "      <td>station</td>\n",
              "      <td>closed</td>\n",
              "      <td>nonexistent</td>\n",
              "      <td>2018</td>\n",
              "      <td>4</td>\n",
              "      <td>9</td>\n",
              "      <td>23</td>\n",
              "      <td>59</td>\n",
              "    </tr>\n",
              "    <tr>\n",
              "      <th>460529</th>\n",
              "      <td>14421821</td>\n",
              "      <td>605</td>\n",
              "      <td>125 bis avenue Parmentier</td>\n",
              "      <td>0</td>\n",
              "      <td>0</td>\n",
              "      <td>0</td>\n",
              "      <td>0</td>\n",
              "      <td>1</td>\n",
              "      <td>operational</td>\n",
              "      <td>Paris</td>\n",
              "      <td>None</td>\n",
              "      <td>paris-parmentier-125</td>\n",
              "      <td>STATION</td>\n",
              "      <td>48.8690795, 2.371679</td>\n",
              "      <td>75011</td>\n",
              "      <td>Paris/Parmentier/125</td>\n",
              "      <td>operational</td>\n",
              "      <td>None</td>\n",
              "      <td>5</td>\n",
              "      <td>station</td>\n",
              "      <td>ok</td>\n",
              "      <td>nonexistent</td>\n",
              "      <td>2018</td>\n",
              "      <td>4</td>\n",
              "      <td>9</td>\n",
              "      <td>23</td>\n",
              "      <td>59</td>\n",
              "    </tr>\n",
              "    <tr>\n",
              "      <th>460530</th>\n",
              "      <td>14421822</td>\n",
              "      <td>634</td>\n",
              "      <td>8 rue Danton</td>\n",
              "      <td>0</td>\n",
              "      <td>0</td>\n",
              "      <td>0</td>\n",
              "      <td>0</td>\n",
              "      <td>2</td>\n",
              "      <td>operational</td>\n",
              "      <td>Paris</td>\n",
              "      <td>None</td>\n",
              "      <td>paris-danton-8</td>\n",
              "      <td>STATION</td>\n",
              "      <td>48.85262, 2.342107</td>\n",
              "      <td>75006</td>\n",
              "      <td>Paris/Danton/8</td>\n",
              "      <td>operational</td>\n",
              "      <td>None</td>\n",
              "      <td>5</td>\n",
              "      <td>station</td>\n",
              "      <td>ok</td>\n",
              "      <td>nonexistent</td>\n",
              "      <td>2018</td>\n",
              "      <td>4</td>\n",
              "      <td>9</td>\n",
              "      <td>23</td>\n",
              "      <td>59</td>\n",
              "    </tr>\n",
              "    <tr>\n",
              "      <th>460531</th>\n",
              "      <td>14421826</td>\n",
              "      <td>996</td>\n",
              "      <td>3 rue Olivier de Serres</td>\n",
              "      <td>5</td>\n",
              "      <td>5</td>\n",
              "      <td>0</td>\n",
              "      <td>0</td>\n",
              "      <td>0</td>\n",
              "      <td>operational</td>\n",
              "      <td>Paris</td>\n",
              "      <td>None</td>\n",
              "      <td>paris-olivierdeserres-3</td>\n",
              "      <td>STATION</td>\n",
              "      <td>48.8370178, 2.2986736</td>\n",
              "      <td>75015</td>\n",
              "      <td>Paris/Olivier de Serres/3</td>\n",
              "      <td>operational</td>\n",
              "      <td>None</td>\n",
              "      <td>1</td>\n",
              "      <td>station</td>\n",
              "      <td>ok</td>\n",
              "      <td>nonexistent</td>\n",
              "      <td>2018</td>\n",
              "      <td>4</td>\n",
              "      <td>9</td>\n",
              "      <td>23</td>\n",
              "      <td>59</td>\n",
              "    </tr>\n",
              "  </tbody>\n",
              "</table>\n",
              "</div>"
            ],
            "text/plain": [
              "           index  Unnamed:0                       Address  ...  day  hour  minute\n",
              "460527  14421817        234  50 Boulevard Auguste Blanqui  ...    9    23      59\n",
              "460528  14421819        372                  4 rue Turgot  ...    9    23      59\n",
              "460529  14421821        605     125 bis avenue Parmentier  ...    9    23      59\n",
              "460530  14421822        634                  8 rue Danton  ...    9    23      59\n",
              "460531  14421826        996       3 rue Olivier de Serres  ...    9    23      59\n",
              "\n",
              "[5 rows x 27 columns]"
            ]
          },
          "metadata": {
            "tags": []
          },
          "execution_count": 21
        }
      ]
    },
    {
      "cell_type": "markdown",
      "metadata": {
        "id": "LPZWNAVVw-YM",
        "colab_type": "text"
      },
      "source": [
        "#Retreaving csv file into our sql lite environment "
      ]
    },
    {
      "cell_type": "markdown",
      "metadata": {
        "id": "cad_Oz_j_OV3",
        "colab_type": "text"
      },
      "source": [
        "DESCRIBING THE DATASET"
      ]
    },
    {
      "cell_type": "code",
      "metadata": {
        "id": "9iM9O5jb_VXC",
        "colab_type": "code",
        "colab": {}
      },
      "source": [
        "#retreaving csv file into our sql lite environment \n",
        "auto = pd.read_sql_query('SELECT * from auto WHERE city == \"Paris\" ', csv_database, )"
      ],
      "execution_count": 0,
      "outputs": []
    },
    {
      "cell_type": "code",
      "metadata": {
        "id": "Bygczs8bNwy1",
        "colab_type": "code",
        "colab": {}
      },
      "source": [
        "auto.to_csv('auto_clean.csv')"
      ],
      "execution_count": 0,
      "outputs": []
    },
    {
      "cell_type": "code",
      "metadata": {
        "id": "NFUxaJmrPBi7",
        "colab_type": "code",
        "colab": {}
      },
      "source": [
        "auto = pd.read_csv('auto_clean.csv', dtype = {'year':str,'month':str,'day':str,'hour':str,'minute':str })"
      ],
      "execution_count": 0,
      "outputs": []
    },
    {
      "cell_type": "code",
      "metadata": {
        "id": "FcKBEZPPM35K",
        "colab_type": "code",
        "colab": {}
      },
      "source": [
        "auto['date'] = auto.year.str.cat([auto.month,auto.day], sep = '/')"
      ],
      "execution_count": 0,
      "outputs": []
    },
    {
      "cell_type": "code",
      "metadata": {
        "id": "z0OpZp4rM6Mf",
        "colab_type": "code",
        "colab": {}
      },
      "source": [
        "auto['time'] = auto.hour.str.cat([auto.minute], sep = ':')"
      ],
      "execution_count": 0,
      "outputs": []
    },
    {
      "cell_type": "code",
      "metadata": {
        "id": "rBKHS7S9M8W2",
        "colab_type": "code",
        "colab": {}
      },
      "source": [
        "auto['date_time'] = auto.date.str.cat([auto.time], sep = ' ')"
      ],
      "execution_count": 0,
      "outputs": []
    },
    {
      "cell_type": "code",
      "metadata": {
        "id": "31CS1k9EM_ju",
        "colab_type": "code",
        "colab": {}
      },
      "source": [
        "auto.drop(['year','month', 'day', 'minute',  'date', 'time'],axis = 1, inplace = True)"
      ],
      "execution_count": 0,
      "outputs": []
    },
    {
      "cell_type": "code",
      "metadata": {
        "id": "OpJqNjqKNB0h",
        "colab_type": "code",
        "colab": {}
      },
      "source": [
        "auto.to_csv('auto_clean.csv')"
      ],
      "execution_count": 0,
      "outputs": []
    },
    {
      "cell_type": "code",
      "metadata": {
        "id": "6xlCZd3LPjvb",
        "colab_type": "code",
        "colab": {}
      },
      "source": [
        "auto.head()"
      ],
      "execution_count": 0,
      "outputs": []
    },
    {
      "cell_type": "markdown",
      "metadata": {
        "id": "tVzP0Og__W-a",
        "colab_type": "text"
      },
      "source": [
        "Renaming Our dataset"
      ]
    },
    {
      "cell_type": "code",
      "metadata": {
        "id": "3bjslbPN_bni",
        "colab_type": "code",
        "colab": {}
      },
      "source": [
        ""
      ],
      "execution_count": 0,
      "outputs": []
    },
    {
      "cell_type": "markdown",
      "metadata": {
        "id": "9AYOO3Fn_crR",
        "colab_type": "text"
      },
      "source": [
        "Preview our dataset"
      ]
    },
    {
      "cell_type": "code",
      "metadata": {
        "id": "lu6om68r_fui",
        "colab_type": "code",
        "colab": {
          "base_uri": "https://localhost:8080/",
          "height": 191
        },
        "outputId": "625ab532-c57d-4f8f-d173-3c2fd9272816"
      },
      "source": [
        "auto.tail()"
      ],
      "execution_count": 92,
      "outputs": [
        {
          "output_type": "execute_result",
          "data": {
            "text/html": [
              "<div>\n",
              "<style scoped>\n",
              "    .dataframe tbody tr th:only-of-type {\n",
              "        vertical-align: middle;\n",
              "    }\n",
              "\n",
              "    .dataframe tbody tr th {\n",
              "        vertical-align: top;\n",
              "    }\n",
              "\n",
              "    .dataframe thead th {\n",
              "        text-align: right;\n",
              "    }\n",
              "</style>\n",
              "<table border=\"1\" class=\"dataframe\">\n",
              "  <thead>\n",
              "    <tr style=\"text-align: right;\">\n",
              "      <th></th>\n",
              "      <th>Unnamed: 0</th>\n",
              "      <th>Bluecarcounter</th>\n",
              "      <th>Utilibcounter</th>\n",
              "      <th>Utilib1.4counter</th>\n",
              "      <th>City</th>\n",
              "      <th>Postalcode</th>\n",
              "      <th>Publicname</th>\n",
              "      <th>Stationtype</th>\n",
              "      <th>Status</th>\n",
              "      <th>Subscriptionstatus</th>\n",
              "      <th>hour</th>\n",
              "      <th>date_time</th>\n",
              "    </tr>\n",
              "  </thead>\n",
              "  <tbody>\n",
              "    <tr>\n",
              "      <th>690793</th>\n",
              "      <td>690793</td>\n",
              "      <td>3</td>\n",
              "      <td>0</td>\n",
              "      <td>0</td>\n",
              "      <td>Paris</td>\n",
              "      <td>75013</td>\n",
              "      <td>Paris/Auguste Blanqui/50</td>\n",
              "      <td>station</td>\n",
              "      <td>ok</td>\n",
              "      <td>nonexistent</td>\n",
              "      <td>23</td>\n",
              "      <td>2018/4/9 23:59</td>\n",
              "    </tr>\n",
              "    <tr>\n",
              "      <th>690794</th>\n",
              "      <td>690794</td>\n",
              "      <td>0</td>\n",
              "      <td>0</td>\n",
              "      <td>0</td>\n",
              "      <td>Paris</td>\n",
              "      <td>75009</td>\n",
              "      <td>Paris/Turgot/4</td>\n",
              "      <td>station</td>\n",
              "      <td>closed</td>\n",
              "      <td>nonexistent</td>\n",
              "      <td>23</td>\n",
              "      <td>2018/4/9 23:59</td>\n",
              "    </tr>\n",
              "    <tr>\n",
              "      <th>690795</th>\n",
              "      <td>690795</td>\n",
              "      <td>0</td>\n",
              "      <td>0</td>\n",
              "      <td>0</td>\n",
              "      <td>Paris</td>\n",
              "      <td>75011</td>\n",
              "      <td>Paris/Parmentier/125</td>\n",
              "      <td>station</td>\n",
              "      <td>ok</td>\n",
              "      <td>nonexistent</td>\n",
              "      <td>23</td>\n",
              "      <td>2018/4/9 23:59</td>\n",
              "    </tr>\n",
              "    <tr>\n",
              "      <th>690796</th>\n",
              "      <td>690796</td>\n",
              "      <td>0</td>\n",
              "      <td>0</td>\n",
              "      <td>0</td>\n",
              "      <td>Paris</td>\n",
              "      <td>75006</td>\n",
              "      <td>Paris/Danton/8</td>\n",
              "      <td>station</td>\n",
              "      <td>ok</td>\n",
              "      <td>nonexistent</td>\n",
              "      <td>23</td>\n",
              "      <td>2018/4/9 23:59</td>\n",
              "    </tr>\n",
              "    <tr>\n",
              "      <th>690797</th>\n",
              "      <td>690797</td>\n",
              "      <td>5</td>\n",
              "      <td>0</td>\n",
              "      <td>0</td>\n",
              "      <td>Paris</td>\n",
              "      <td>75015</td>\n",
              "      <td>Paris/Olivier de Serres/3</td>\n",
              "      <td>station</td>\n",
              "      <td>ok</td>\n",
              "      <td>nonexistent</td>\n",
              "      <td>23</td>\n",
              "      <td>2018/4/9 23:59</td>\n",
              "    </tr>\n",
              "  </tbody>\n",
              "</table>\n",
              "</div>"
            ],
            "text/plain": [
              "        Unnamed: 0  Bluecarcounter  ...  hour       date_time\n",
              "690793      690793               3  ...    23  2018/4/9 23:59\n",
              "690794      690794               0  ...    23  2018/4/9 23:59\n",
              "690795      690795               0  ...    23  2018/4/9 23:59\n",
              "690796      690796               0  ...    23  2018/4/9 23:59\n",
              "690797      690797               5  ...    23  2018/4/9 23:59\n",
              "\n",
              "[5 rows x 12 columns]"
            ]
          },
          "metadata": {
            "tags": []
          },
          "execution_count": 92
        }
      ]
    },
    {
      "cell_type": "markdown",
      "metadata": {
        "id": "ZxzrmJOS_hV6",
        "colab_type": "text"
      },
      "source": [
        "#Validity ~ Dropping Unnecesary columns/Variables "
      ]
    },
    {
      "cell_type": "code",
      "metadata": {
        "id": "j-M0H-n9_l2J",
        "colab_type": "code",
        "colab": {}
      },
      "source": [
        "auto.drop(['Unnamed: 0', 'Unnamed:0', 'index',  'Displayedcomment', 'ID', 'Geopoint', \n",
        "           'Scheduledat','Address','ChargeSlots', 'ChargingStatus','Kind', 'Rentalstatus','Slots',],axis=1, inplace=True)"
      ],
      "execution_count": 0,
      "outputs": []
    },
    {
      "cell_type": "code",
      "metadata": {
        "id": "rwCXln_Z_u8h",
        "colab_type": "code",
        "colab": {
          "base_uri": "https://localhost:8080/",
          "height": 212
        },
        "outputId": "e6fda268-59cd-4441-f4f1-e17747c88476"
      },
      "source": [
        "# checking the columns types \n",
        "auto.dtypes"
      ],
      "execution_count": 77,
      "outputs": [
        {
          "output_type": "execute_result",
          "data": {
            "text/plain": [
              "Bluecarcounter         int64\n",
              "Utilibcounter          int64\n",
              "Utilib1.4counter       int64\n",
              "City                  object\n",
              "Postalcode             int64\n",
              "Publicname            object\n",
              "Stationtype           object\n",
              "Status                object\n",
              "Subscriptionstatus    object\n",
              "hour                  object\n",
              "date_time             object\n",
              "dtype: object"
            ]
          },
          "metadata": {
            "tags": []
          },
          "execution_count": 77
        }
      ]
    },
    {
      "cell_type": "markdown",
      "metadata": {
        "id": "aMr2RcbB_y4Z",
        "colab_type": "text"
      },
      "source": [
        "#Completeness ~ Null Values Assessment "
      ]
    },
    {
      "cell_type": "code",
      "metadata": {
        "id": "8OMsED9p_1ob",
        "colab_type": "code",
        "colab": {
          "base_uri": "https://localhost:8080/",
          "height": 33
        },
        "outputId": "3048e3ab-6a13-4cb3-c853-e48d36beebc7"
      },
      "source": [
        "#Checking for null values  \n",
        "auto.isnull().sum().sum()"
      ],
      "execution_count": 78,
      "outputs": [
        {
          "output_type": "execute_result",
          "data": {
            "text/plain": [
              "0"
            ]
          },
          "metadata": {
            "tags": []
          },
          "execution_count": 78
        }
      ]
    },
    {
      "cell_type": "code",
      "metadata": {
        "id": "hrQvW2atKiv9",
        "colab_type": "code",
        "colab": {}
      },
      "source": [
        "#preview our dataset to ascertain its dropped columns \n",
        "auto.head()"
      ],
      "execution_count": 0,
      "outputs": []
    },
    {
      "cell_type": "markdown",
      "metadata": {
        "id": "j6yvLCiG_2ZR",
        "colab_type": "text"
      },
      "source": [
        "#Duplicates "
      ]
    },
    {
      "cell_type": "code",
      "metadata": {
        "id": "GjbSxQrp_5_u",
        "colab_type": "code",
        "colab": {}
      },
      "source": [
        "#Duplicates and Drop them ~ Scheduled at has the most duplicates 14310213  \n",
        "auto[auto.duplicated(subset = None)]"
      ],
      "execution_count": 0,
      "outputs": []
    },
    {
      "cell_type": "code",
      "metadata": {
        "id": "bL2fKCJi_7BZ",
        "colab_type": "code",
        "colab": {
          "base_uri": "https://localhost:8080/",
          "height": 33
        },
        "outputId": "0cf184d3-005a-4a6e-d50f-c3465dcf0975"
      },
      "source": [
        "#Checking if its only city we are dealing with \n",
        "auto.City.unique()"
      ],
      "execution_count": 36,
      "outputs": [
        {
          "output_type": "execute_result",
          "data": {
            "text/plain": [
              "array(['Paris'], dtype=object)"
            ]
          },
          "metadata": {
            "tags": []
          },
          "execution_count": 36
        }
      ]
    },
    {
      "cell_type": "markdown",
      "metadata": {
        "id": "4ihLZpeg__c6",
        "colab_type": "text"
      },
      "source": [
        "#Uniformity ~ Date Type Conversion "
      ]
    },
    {
      "cell_type": "code",
      "metadata": {
        "id": "QCioXDSWACww",
        "colab_type": "code",
        "colab": {}
      },
      "source": [
        "#Uniformity - datetypes as strings \n",
        "auto = pd.read_csv('auto_clean.csv', dtype = {'year':str,'month':str,'day':str,'hour':str,'minute':str })"
      ],
      "execution_count": 0,
      "outputs": []
    },
    {
      "cell_type": "code",
      "metadata": {
        "id": "B9d08EVUReeb",
        "colab_type": "code",
        "colab": {}
      },
      "source": [
        "#converting  date_time column \n",
        "auto['date_time'] = pd.to_datetime( auto['date_time'])"
      ],
      "execution_count": 0,
      "outputs": []
    },
    {
      "cell_type": "markdown",
      "metadata": {
        "id": "j00F5yt8AFNg",
        "colab_type": "text"
      },
      "source": [
        "Displaying Clean Dataset"
      ]
    },
    {
      "cell_type": "code",
      "metadata": {
        "id": "MffuERhNAL34",
        "colab_type": "code",
        "colab": {
          "base_uri": "https://localhost:8080/",
          "height": 293
        },
        "outputId": "1064f768-03b5-4654-f659-6717e10f0f0d"
      },
      "source": [
        "#DISPLAYING OUR CLEAN DATASET\n",
        "auto.info()"
      ],
      "execution_count": 94,
      "outputs": [
        {
          "output_type": "stream",
          "text": [
            "<class 'pandas.core.frame.DataFrame'>\n",
            "RangeIndex: 690798 entries, 0 to 690797\n",
            "Data columns (total 12 columns):\n",
            "Unnamed: 0            690798 non-null int64\n",
            "Bluecarcounter        690798 non-null int64\n",
            "Utilibcounter         690798 non-null int64\n",
            "Utilib1.4counter      690798 non-null int64\n",
            "City                  690798 non-null object\n",
            "Postalcode            690798 non-null int64\n",
            "Publicname            690798 non-null object\n",
            "Stationtype           690798 non-null object\n",
            "Status                690798 non-null object\n",
            "Subscriptionstatus    690798 non-null object\n",
            "hour                  690798 non-null object\n",
            "date_time             690798 non-null datetime64[ns]\n",
            "dtypes: datetime64[ns](1), int64(5), object(6)\n",
            "memory usage: 63.2+ MB\n"
          ],
          "name": "stdout"
        }
      ]
    },
    {
      "cell_type": "markdown",
      "metadata": {
        "id": "Gxn2SsUyAOYI",
        "colab_type": "text"
      },
      "source": [
        "Saving our clean dataset as csv"
      ]
    },
    {
      "cell_type": "code",
      "metadata": {
        "id": "gnbpTq9nASCQ",
        "colab_type": "code",
        "colab": {}
      },
      "source": [
        "#SAVING THE CLEAN DATASET AS CSV\n",
        "auto.to_csv('auto_clean.csv')"
      ],
      "execution_count": 0,
      "outputs": []
    },
    {
      "cell_type": "code",
      "metadata": {
        "id": "hHiLNh2RS-G1",
        "colab_type": "code",
        "colab": {}
      },
      "source": [
        "auto.count()"
      ],
      "execution_count": 0,
      "outputs": []
    },
    {
      "cell_type": "markdown",
      "metadata": {
        "id": "BL9GKR4aATwg",
        "colab_type": "text"
      },
      "source": [
        "#ANALYSIS ~ Answering Research Questions "
      ]
    },
    {
      "cell_type": "markdown",
      "metadata": {
        "id": "O6BUYk_5AcHw",
        "colab_type": "text"
      },
      "source": [
        "1. What was the most popular hour of the day for picking up a shared electric car (Bluecar) \n",
        "in the city of Paris over the month of April 2018?"
      ]
    },
    {
      "cell_type": "code",
      "metadata": {
        "id": "pcDmGQOwAeFZ",
        "colab_type": "code",
        "colab": {}
      },
      "source": [
        "#ensuring the city is Paris \n",
        "auto[auto.City == 'Paris'] "
      ],
      "execution_count": 0,
      "outputs": []
    },
    {
      "cell_type": "code",
      "metadata": {
        "id": "HNbjHIrYR5XY",
        "colab_type": "code",
        "colab": {}
      },
      "source": [
        "#this lists the hours for picking the cars \n",
        "auto = auto[auto['Bluecarcounter']==auto['Bluecarcounter'].min().head()]"
      ],
      "execution_count": 0,
      "outputs": []
    },
    {
      "cell_type": "markdown",
      "metadata": {
        "id": "-LX0-UfIAf1g",
        "colab_type": "text"
      },
      "source": [
        "2.What is the most popular postal code per hour for returning blue cars? 78005 most popular with 14419 units of cars "
      ]
    },
    {
      "cell_type": "code",
      "metadata": {
        "id": "QN6D02dcAhho",
        "colab_type": "code",
        "colab": {
          "base_uri": "https://localhost:8080/",
          "height": 280
        },
        "outputId": "7b8c7657-ad19-4591-c361-dbde6333c944"
      },
      "source": [
        "auto.groupby(['Postalcode',auto.date_time.dt.hour,'Bluecarcounter'])['Bluecarcounter'].count().sort_values(ascending = False).head(20)"
      ],
      "execution_count": 83,
      "outputs": [
        {
          "output_type": "error",
          "ename": "AttributeError",
          "evalue": "ignored",
          "traceback": [
            "\u001b[0;31m---------------------------------------------------------------------------\u001b[0m",
            "\u001b[0;31mAttributeError\u001b[0m                            Traceback (most recent call last)",
            "\u001b[0;32m<ipython-input-83-b0c92450a1af>\u001b[0m in \u001b[0;36m<module>\u001b[0;34m()\u001b[0m\n\u001b[0;32m----> 1\u001b[0;31m \u001b[0mauto\u001b[0m\u001b[0;34m.\u001b[0m\u001b[0mgroupby\u001b[0m\u001b[0;34m(\u001b[0m\u001b[0;34m[\u001b[0m\u001b[0;34m'Postalcode'\u001b[0m\u001b[0;34m,\u001b[0m\u001b[0mauto\u001b[0m\u001b[0;34m.\u001b[0m\u001b[0mdate_time\u001b[0m\u001b[0;34m.\u001b[0m\u001b[0mdt\u001b[0m\u001b[0;34m.\u001b[0m\u001b[0mhour\u001b[0m\u001b[0;34m,\u001b[0m\u001b[0;34m'Bluecarcounter'\u001b[0m\u001b[0;34m]\u001b[0m\u001b[0;34m)\u001b[0m\u001b[0;34m[\u001b[0m\u001b[0;34m'Bluecarcounter'\u001b[0m\u001b[0;34m]\u001b[0m\u001b[0;34m.\u001b[0m\u001b[0mcount\u001b[0m\u001b[0;34m(\u001b[0m\u001b[0;34m)\u001b[0m\u001b[0;34m.\u001b[0m\u001b[0msort_values\u001b[0m\u001b[0;34m(\u001b[0m\u001b[0mascending\u001b[0m \u001b[0;34m=\u001b[0m \u001b[0;32mFalse\u001b[0m\u001b[0;34m)\u001b[0m\u001b[0;34m.\u001b[0m\u001b[0mhead\u001b[0m\u001b[0;34m(\u001b[0m\u001b[0;36m20\u001b[0m\u001b[0;34m)\u001b[0m\u001b[0;34m\u001b[0m\u001b[0;34m\u001b[0m\u001b[0m\n\u001b[0m",
            "\u001b[0;32m/usr/local/lib/python3.6/dist-packages/pandas/core/generic.py\u001b[0m in \u001b[0;36m__getattr__\u001b[0;34m(self, name)\u001b[0m\n\u001b[1;32m   5061\u001b[0m         if (name in self._internal_names_set or name in self._metadata or\n\u001b[1;32m   5062\u001b[0m                 name in self._accessors):\n\u001b[0;32m-> 5063\u001b[0;31m             \u001b[0;32mreturn\u001b[0m \u001b[0mobject\u001b[0m\u001b[0;34m.\u001b[0m\u001b[0m__getattribute__\u001b[0m\u001b[0;34m(\u001b[0m\u001b[0mself\u001b[0m\u001b[0;34m,\u001b[0m \u001b[0mname\u001b[0m\u001b[0;34m)\u001b[0m\u001b[0;34m\u001b[0m\u001b[0;34m\u001b[0m\u001b[0m\n\u001b[0m\u001b[1;32m   5064\u001b[0m         \u001b[0;32melse\u001b[0m\u001b[0;34m:\u001b[0m\u001b[0;34m\u001b[0m\u001b[0;34m\u001b[0m\u001b[0m\n\u001b[1;32m   5065\u001b[0m             \u001b[0;32mif\u001b[0m \u001b[0mself\u001b[0m\u001b[0;34m.\u001b[0m\u001b[0m_info_axis\u001b[0m\u001b[0;34m.\u001b[0m\u001b[0m_can_hold_identifiers_and_holds_name\u001b[0m\u001b[0;34m(\u001b[0m\u001b[0mname\u001b[0m\u001b[0;34m)\u001b[0m\u001b[0;34m:\u001b[0m\u001b[0;34m\u001b[0m\u001b[0;34m\u001b[0m\u001b[0m\n",
            "\u001b[0;32m/usr/local/lib/python3.6/dist-packages/pandas/core/accessor.py\u001b[0m in \u001b[0;36m__get__\u001b[0;34m(self, obj, cls)\u001b[0m\n\u001b[1;32m    169\u001b[0m             \u001b[0;31m# we're accessing the attribute of the class, i.e., Dataset.geo\u001b[0m\u001b[0;34m\u001b[0m\u001b[0;34m\u001b[0m\u001b[0;34m\u001b[0m\u001b[0m\n\u001b[1;32m    170\u001b[0m             \u001b[0;32mreturn\u001b[0m \u001b[0mself\u001b[0m\u001b[0;34m.\u001b[0m\u001b[0m_accessor\u001b[0m\u001b[0;34m\u001b[0m\u001b[0;34m\u001b[0m\u001b[0m\n\u001b[0;32m--> 171\u001b[0;31m         \u001b[0maccessor_obj\u001b[0m \u001b[0;34m=\u001b[0m \u001b[0mself\u001b[0m\u001b[0;34m.\u001b[0m\u001b[0m_accessor\u001b[0m\u001b[0;34m(\u001b[0m\u001b[0mobj\u001b[0m\u001b[0;34m)\u001b[0m\u001b[0;34m\u001b[0m\u001b[0;34m\u001b[0m\u001b[0m\n\u001b[0m\u001b[1;32m    172\u001b[0m         \u001b[0;31m# Replace the property with the accessor object. Inspired by:\u001b[0m\u001b[0;34m\u001b[0m\u001b[0;34m\u001b[0m\u001b[0;34m\u001b[0m\u001b[0m\n\u001b[1;32m    173\u001b[0m         \u001b[0;31m# http://www.pydanny.com/cached-property.html\u001b[0m\u001b[0;34m\u001b[0m\u001b[0;34m\u001b[0m\u001b[0;34m\u001b[0m\u001b[0m\n",
            "\u001b[0;32m/usr/local/lib/python3.6/dist-packages/pandas/core/indexes/accessors.py\u001b[0m in \u001b[0;36m__new__\u001b[0;34m(cls, data)\u001b[0m\n\u001b[1;32m    322\u001b[0m             \u001b[0;32mpass\u001b[0m  \u001b[0;31m# we raise an attribute error anyway\u001b[0m\u001b[0;34m\u001b[0m\u001b[0;34m\u001b[0m\u001b[0m\n\u001b[1;32m    323\u001b[0m \u001b[0;34m\u001b[0m\u001b[0m\n\u001b[0;32m--> 324\u001b[0;31m         raise AttributeError(\"Can only use .dt accessor with datetimelike \"\n\u001b[0m\u001b[1;32m    325\u001b[0m                              \"values\")\n",
            "\u001b[0;31mAttributeError\u001b[0m: Can only use .dt accessor with datetimelike values"
          ]
        }
      ]
    },
    {
      "cell_type": "markdown",
      "metadata": {
        "id": "9K5HDeBoAjI5",
        "colab_type": "text"
      },
      "source": [
        "3. Most Popular Station "
      ]
    },
    {
      "cell_type": "code",
      "metadata": {
        "id": "0RkqVomCAluQ",
        "colab_type": "code",
        "colab": {}
      },
      "source": [
        "dff.groupby(['public_name','cars']).count().sort_values(ascending = False).head(500)"
      ],
      "execution_count": 0,
      "outputs": []
    },
    {
      "cell_type": "markdown",
      "metadata": {
        "id": "3WYU4i00AoXR",
        "colab_type": "text"
      },
      "source": [
        "4. Utilib_counter Station at the most popular picking hour for blue cars "
      ]
    },
    {
      "cell_type": "code",
      "metadata": {
        "id": "8znYlX2KAqJP",
        "colab_type": "code",
        "colab": {}
      },
      "source": [
        "dff.groupby('public_name',dff.date.dt.hour.['utilib_counter'],['utilib_counter'].count().sort_values(ascending = False)"
      ],
      "execution_count": 0,
      "outputs": []
    },
    {
      "cell_type": "markdown",
      "metadata": {
        "id": "-GvPRi4cAx4j",
        "colab_type": "text"
      },
      "source": [
        "5. "
      ]
    }
  ]
}